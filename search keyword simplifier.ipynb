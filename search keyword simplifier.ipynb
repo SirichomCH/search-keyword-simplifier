{
 "cells": [
  {
   "cell_type": "code",
   "execution_count": 4,
   "metadata": {},
   "outputs": [
    {
     "name": "stderr",
     "output_type": "stream",
     "text": [
      "[nltk_data] Downloading package words to\n",
      "[nltk_data]     C:\\Users\\Administrator\\AppData\\Roaming\\nltk_data...\n",
      "[nltk_data]   Package words is already up-to-date!\n",
      "[nltk_data] Downloading package punkt to\n",
      "[nltk_data]     C:\\Users\\Administrator\\AppData\\Roaming\\nltk_data...\n",
      "[nltk_data]   Package punkt is already up-to-date!\n"
     ]
    }
   ],
   "source": [
    "import emoji\n",
    "from pythainlp.tokenize import word_tokenize as wt_th\n",
    "from nltk import word_tokenize as wt_eng\n",
    "from pythainlp.corpus import thai_stopwords \n",
    "from pythainlp.util import normalize\n",
    "from pythainlp.util import eng_to_thai\n",
    "from langdetect import detect\n",
    "import nltk\n",
    "nltk.download('words')\n",
    "nltk.download('punkt')\n",
    "from nltk.corpus import words\n",
    "setofwords = set(words.words())"
   ]
  },
  {
   "cell_type": "code",
   "execution_count": 5,
   "metadata": {},
   "outputs": [],
   "source": [
    "def remove_emoji(x):\n",
    "  return ''.join([c for c in x if c not in emoji.UNICODE_EMOJI])\n",
    "\n",
    "def is_word(word):\n",
    "    return word.lower() in setofwords"
   ]
  },
  {
   "cell_type": "code",
   "execution_count": 9,
   "metadata": {},
   "outputs": [
    {
     "name": "stdout",
     "output_type": "stream",
     "text": [
      "text: ihkogonhvpjk'g9k5jkovijvpql6-6,;bm\n",
      "ร้านเนื้อย่างเตาถ่านอร่อยๆสุขุมวิท\n",
      "['ร้าน', 'เนื้อ', 'ย่าง', 'เตาถ่าน', 'อร่อย', 'สุขุมวิท']\n"
     ]
    }
   ],
   "source": [
    "text = input(\"text: \")\n",
    "text = remove_emoji(text)\n",
    "lang = detect(text)\n",
    "if lang =='th':\n",
    "    text = normalize(text)\n",
    "    list_word = word_tokenize(text)\n",
    "    stopwords = list(thai_stopwords())\n",
    "    list_word_not_stopwords = [i for i in list_word if i not in stopwords]\n",
    "    print(list_word)\n",
    "    print(list_word_not_stopwords)\n",
    "else:\n",
    "    if is_word(text) == True:\n",
    "        print(text)\n",
    "    else:\n",
    "        text = eng_to_thai(text)\n",
    "        text = normalize(text)\n",
    "        list_word = wt_th(text)\n",
    "        stopwords = list(thai_stopwords())\n",
    "        list_word_not_stopwords = [i for i in list_word if i not in stopwords]\n",
    "        print(text)\n",
    "        print(list_word_not_stopwords)"
   ]
  },
  {
   "cell_type": "code",
   "execution_count": null,
   "metadata": {},
   "outputs": [],
   "source": []
  }
 ],
 "metadata": {
  "kernelspec": {
   "display_name": "Python 3",
   "language": "python",
   "name": "python3"
  },
  "language_info": {
   "codemirror_mode": {
    "name": "ipython",
    "version": 3
   },
   "file_extension": ".py",
   "mimetype": "text/x-python",
   "name": "python",
   "nbconvert_exporter": "python",
   "pygments_lexer": "ipython3",
   "version": "3.7.7"
  }
 },
 "nbformat": 4,
 "nbformat_minor": 4
}
